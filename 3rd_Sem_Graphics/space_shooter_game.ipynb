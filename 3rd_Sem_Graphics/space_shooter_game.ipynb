{
 "cells": [
  {
   "cell_type": "markdown",
   "id": "f73b8624",
   "metadata": {},
   "source": [
    "### Importing Libraries and Setting Up"
   ]
  },
  {
   "cell_type": "code",
   "execution_count": null,
   "id": "7b11a370",
   "metadata": {},
   "outputs": [],
   "source": [
    "\n",
    "import pygame\n",
    "import random\n",
    "import sys\n",
    "import os\n",
    "\n",
    "# Set the working directory to the script's location\n",
    "os.chdir(os.path.dirname(os.path.abspath(__file__)))\n",
    "\n",
    "# Initialize pygame\n",
    "pygame.init()\n"
   ]
  },
  {
   "cell_type": "markdown",
   "id": "acebad87",
   "metadata": {},
   "source": [
    "### Game Window Setup"
   ]
  },
  {
   "cell_type": "code",
   "execution_count": null,
   "id": "707e3280",
   "metadata": {},
   "outputs": [],
   "source": [
    "\n",
    "# Screen dimensions and settings\n",
    "SCREEN_WIDTH = 800\n",
    "SCREEN_HEIGHT = 600\n",
    "screen = pygame.display.set_mode((SCREEN_WIDTH, SCREEN_HEIGHT))\n",
    "pygame.display.set_caption(\"Space Shooter Game\")\n"
   ]
  },
  {
   "cell_type": "markdown",
   "id": "87c520a2",
   "metadata": {},
   "source": [
    "### Color and Font Definitions"
   ]
  },
  {
   "cell_type": "code",
   "execution_count": null,
   "id": "98ff5624",
   "metadata": {},
   "outputs": [],
   "source": [
    "\n",
    "# Colors\n",
    "WHITE = (255, 255, 255)\n",
    "BLACK = (0, 0, 0)\n",
    "RED = (255, 0, 0)\n",
    "GREEN = (0, 255, 0)\n",
    "BLUE = (0, 0, 255)\n",
    "\n",
    "# Fonts\n",
    "FONT = pygame.font.Font(None, 36)\n"
   ]
  },
  {
   "cell_type": "markdown",
   "id": "9eefc299",
   "metadata": {},
   "source": [
    "### Game Variables Initialization"
   ]
  },
  {
   "cell_type": "code",
   "execution_count": null,
   "id": "f11df260",
   "metadata": {},
   "outputs": [],
   "source": [
    "\n",
    "# Game variables\n",
    "player_speed = 10\n",
    "bullet_speed = 10\n",
    "enemy_speed = 2\n",
    "asteroid_speed = 2\n",
    "powerup_speed = 0.5\n",
    "level = 1\n",
    "score = 0\n",
    "lives = 10  # Set the number of lives to 10\n",
    "player_x = SCREEN_WIDTH // 2\n",
    "player_y = SCREEN_HEIGHT - 100\n",
    "bullets = []\n",
    "enemies = []\n",
    "asteroids = []\n",
    "powerups = []\n"
   ]
  },
  {
   "cell_type": "markdown",
   "id": "da00aec0",
   "metadata": {},
   "source": [
    "### Loading Assets"
   ]
  },
  {
   "cell_type": "code",
   "execution_count": null,
   "id": "973bdf7d",
   "metadata": {},
   "outputs": [],
   "source": [
    "\n",
    "# Load images\n",
    "player_ship = pygame.image.load(\"fighter_plane.png\")  # Load custom image for player\n",
    "player_ship = pygame.transform.scale(player_ship, (50, 50))  # Scale it to the desired size\n",
    "\n",
    "enemy_ship = pygame.image.load(\"enemy_plane.png\")\n",
    "enemy_ship = pygame.transform.scale(enemy_ship, (40, 40))\n",
    "\n",
    "asteroid = pygame.image.load(\"asteroid.png\")\n",
    "asteroid = pygame.transform.scale(asteroid, (30, 30))\n",
    "\n",
    "powerup_item = pygame.image.load(\"powerup.png\")\n",
    "powerup_item = pygame.transform.scale(powerup_item, (20, 20))\n",
    "\n",
    "background = pygame.image.load(\"space.png\")\n",
    "background = pygame.transform.scale(background, (SCREEN_WIDTH, SCREEN_HEIGHT))\n",
    "\n",
    "# Clock object\n",
    "clock = pygame.time.Clock()\n"
   ]
  },
  {
   "cell_type": "markdown",
   "id": "32205f8e",
   "metadata": {},
   "source": [
    "### Utility Functions"
   ]
  },
  {
   "cell_type": "code",
   "execution_count": null,
   "id": "96d1a283",
   "metadata": {},
   "outputs": [],
   "source": [
    "\n",
    "# Draw text\n",
    "def draw_text(text, font, color, surface, x, y):\n",
    "    text_obj = font.render(text, True, color)\n",
    "    text_rect = text_obj.get_rect(center=(x, y))\n",
    "    surface.blit(text_obj, text_rect)\n",
    "\n",
    "# Draw player\n",
    "def draw_player(x, y):\n",
    "    screen.blit(player_ship, (x, y))\n",
    "\n",
    "# Draw bullets\n",
    "def draw_bullets():\n",
    "    for bullet in bullets:\n",
    "        pygame.draw.rect(screen, WHITE, bullet)\n",
    "\n",
    "# Draw enemies\n",
    "def draw_enemies():\n",
    "    for enemy in enemies:\n",
    "        screen.blit(enemy_ship, (enemy.x, enemy.y))\n",
    "\n",
    "# Draw asteroids\n",
    "def draw_asteroids():\n",
    "    for asteroid_obj in asteroids:\n",
    "        screen.blit(asteroid, (asteroid_obj.x, asteroid_obj.y))\n",
    "\n",
    "# Draw powerups\n",
    "def draw_powerups():\n",
    "    for powerup_obj in powerups:\n",
    "        screen.blit(powerup_item, (powerup_obj.x, powerup_obj.y))\n"
   ]
  },
  {
   "cell_type": "markdown",
   "id": "d554bf7a",
   "metadata": {},
   "source": [
    "### Gameplay Mechanics"
   ]
  },
  {
   "cell_type": "code",
   "execution_count": null,
   "id": "6b7bda97",
   "metadata": {},
   "outputs": [],
   "source": [
    "\n",
    "# Bullet movement\n",
    "def move_bullets():\n",
    "    global score\n",
    "    for bullet in bullets[:]:\n",
    "        bullet.y -= bullet_speed\n",
    "        if bullet.y < 0:\n",
    "            bullets.remove(bullet)\n",
    "\n",
    "        # Check collision with enemies\n",
    "        for enemy in enemies[:]:\n",
    "            if bullet.colliderect(enemy):\n",
    "                score += 10\n",
    "                enemies.remove(enemy)\n",
    "                bullets.remove(bullet)\n",
    "                break\n",
    "\n",
    "        # Check collision with asteroids\n",
    "        for asteroid_obj in asteroids[:]:\n",
    "            if bullet.colliderect(asteroid_obj):\n",
    "                asteroids.remove(asteroid_obj)\n",
    "                bullets.remove(bullet)\n",
    "                break\n",
    "\n",
    "# Enemy movement\n",
    "def move_enemies():\n",
    "    global lives\n",
    "    for enemy in enemies[:]:\n",
    "        enemy.y += enemy_speed\n",
    "        if enemy.y > SCREEN_HEIGHT:\n",
    "            enemies.remove(enemy)\n",
    "            lives -= 1\n",
    "\n",
    "# Asteroid movement\n",
    "def move_asteroids():\n",
    "    global lives\n",
    "    for asteroid_obj in asteroids[:]:\n",
    "        asteroid_obj.y += asteroid_speed\n",
    "        if asteroid_obj.y > SCREEN_HEIGHT:\n",
    "            asteroids.remove(asteroid_obj)\n",
    "            lives -= 1\n",
    "\n",
    "# Power-up movement\n",
    "def move_powerups():\n",
    "    for powerup_obj in powerups[:]:\n",
    "        powerup_obj.y += powerup_speed\n",
    "        if powerup_obj.y > SCREEN_HEIGHT:\n",
    "            powerups.remove(powerup_obj)\n"
   ]
  },
  {
   "cell_type": "markdown",
   "id": "54f56ab2",
   "metadata": {},
   "source": [
    "### Object Generation"
   ]
  },
  {
   "cell_type": "code",
   "execution_count": null,
   "id": "ca99670a",
   "metadata": {},
   "outputs": [],
   "source": [
    "\n",
    "# Generate random enemy\n",
    "def generate_enemy():\n",
    "    enemy = pygame.Rect(random.randint(50, SCREEN_WIDTH - 50), -40, 40, 40)\n",
    "    enemies.append(enemy)\n",
    "\n",
    "# Generate random asteroid\n",
    "def generate_asteroid():\n",
    "    asteroid_obj = pygame.Rect(random.randint(50, SCREEN_WIDTH - 50), -30, 30, 30)\n",
    "    asteroids.append(asteroid_obj)\n",
    "\n",
    "# Generate random power-up\n",
    "def generate_powerup():\n",
    "    powerup_obj = pygame.Rect(random.randint(50, SCREEN_WIDTH - 50), -20, 20, 20)\n",
    "    powerups.append(powerup_obj)\n"
   ]
  },
  {
   "cell_type": "markdown",
   "id": "85e58150",
   "metadata": {},
   "source": [
    "### Game Reset"
   ]
  },
  {
   "cell_type": "code",
   "execution_count": null,
   "id": "b3a0435e",
   "metadata": {},
   "outputs": [],
   "source": [
    "\n",
    "# Restart the game by resetting the game variables\n",
    "def restart_game():\n",
    "    global score, lives, level, player_x, bullets, enemies, asteroids, powerups\n",
    "    score = 0\n",
    "    lives = 10\n",
    "    level = 1\n",
    "    player_x = SCREEN_WIDTH // 2\n",
    "    bullets = []\n",
    "    enemies = []\n",
    "    asteroids = []\n",
    "    powerups = []\n"
   ]
  },
  {
   "cell_type": "markdown",
   "id": "48a995c7",
   "metadata": {},
   "source": [
    "### Main Game Loop"
   ]
  },
  {
   "cell_type": "code",
   "execution_count": null,
   "id": "18bbcbd4",
   "metadata": {},
   "outputs": [],
   "source": [
    "\n",
    "# Main game loop\n",
    "def main():\n",
    "    global player_x, lives, level, score, bullets\n",
    "\n",
    "    # Timer for generating new enemies and obstacles\n",
    "    enemy_timer = 0\n",
    "    asteroid_timer = 0\n",
    "    powerup_timer = 0\n",
    "\n",
    "    while True:\n",
    "        screen.blit(background, (0, 0))\n",
    "\n",
    "        # Event handling\n",
    "        for event in pygame.event.get():\n",
    "            if event.type == pygame.QUIT:\n",
    "                pygame.quit()\n",
    "                sys.exit()\n",
    "\n",
    "        # Key press handling\n",
    "        keys = pygame.key.get_pressed()\n",
    "        if keys[pygame.K_LEFT] and player_x > 0:\n",
    "            player_x -= player_speed\n",
    "        if keys[pygame.K_RIGHT] and player_x < SCREEN_WIDTH - 50:\n",
    "            player_x += player_speed\n",
    "        if keys[pygame.K_SPACE]:\n",
    "            bullet = pygame.Rect(player_x + 20, player_y, 10, 20)\n",
    "            bullets.append(bullet)\n",
    "\n",
    "        # Game mechanics\n",
    "        move_bullets()\n",
    "        move_enemies()\n",
    "        move_asteroids()\n",
    "        move_powerups()\n",
    "\n",
    "        # Generate new enemies and obstacles\n",
    "        enemy_timer += 1\n",
    "        asteroid_timer += 1\n",
    "        powerup_timer += 1\n",
    "\n",
    "        if enemy_timer > 50:\n",
    "            generate_enemy()\n",
    "            enemy_timer = 0\n",
    "        if asteroid_timer > 150:\n",
    "            generate_asteroid()\n",
    "            asteroid_timer = 0\n",
    "        if powerup_timer > 300:\n",
    "            generate_powerup()\n",
    "            powerup_timer = 0\n",
    "\n",
    "        # Draw everything\n",
    "        draw_player(player_x, player_y)\n",
    "        draw_bullets()\n",
    "        draw_enemies()\n",
    "        draw_asteroids()\n",
    "        draw_powerups()\n",
    "\n",
    "        # Display score and lives\n",
    "        draw_text(f\"Score: {score}\", FONT, WHITE, screen, SCREEN_WIDTH // 2, 30)\n",
    "        draw_text(f\"Lives: {lives}\", FONT, WHITE, screen, SCREEN_WIDTH // 2, 60)\n",
    "\n",
    "        # Check game over condition\n",
    "        if lives <= 0:\n",
    "            draw_text(\"GAME OVER!\", FONT, RED, screen, SCREEN_WIDTH // 2, SCREEN_HEIGHT // 2)\n",
    "            pygame.display.flip()\n",
    "            pygame.time.wait(3000)\n",
    "            pygame.quit()\n",
    "            sys.exit()\n",
    "\n",
    "        pygame.display.flip()\n",
    "        clock.tick(60)\n",
    "\n",
    "if __name__ == \"__main__\":\n",
    "    main()\n"
   ]
  }
 ],
 "metadata": {},
 "nbformat": 4,
 "nbformat_minor": 5
}
